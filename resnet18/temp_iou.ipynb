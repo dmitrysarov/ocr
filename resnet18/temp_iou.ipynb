{
 "cells": [
  {
   "cell_type": "code",
   "execution_count": 12,
   "metadata": {},
   "outputs": [],
   "source": [
    "import numpy as np\n",
    "import numpy\n",
    "import matplotlib.pyplot as plt\n",
    "import PIL\n",
    "from PIL import Image, ImageDraw"
   ]
  },
  {
   "cell_type": "code",
   "execution_count": 2,
   "metadata": {},
   "outputs": [],
   "source": [
    "a = [{\"x\": 571,\"y\": 836}, {\"x\": 571,\"y\": 2606}, {\"x\": 3917,\"y\": 2606}, {\"x\": 3917,\"y\": 836}]\n",
    "b = [{\"x\": 568,\"y\": 1945}, {\"x\": 568,\"y\": 2587}, {\"x\": 1925,\"y\": 2587}, {\"x\": 1925,\"y\": 1945}]"
   ]
  },
  {
   "cell_type": "code",
   "execution_count": 3,
   "metadata": {},
   "outputs": [],
   "source": [
    "a = [[p['x'],p['y']] for p in a]\n",
    "b = [[p['x'],p['y']] for p in b]"
   ]
  },
  {
   "cell_type": "code",
   "execution_count": 4,
   "metadata": {},
   "outputs": [],
   "source": [
    "def iou(a,b):\n",
    "    min_x_a,min_y_a = np.min(a,axis=0)\n",
    "    min_x_b,min_y_b = np.min(b,axis=0)\n",
    "    max_x_a,max_y_a = np.max(a,axis=0)\n",
    "    max_x_b,max_y_b = np.max(b,axis=0)\n",
    "    min_x,min_y = np.max(np.vstack((np.min(a,axis=0),np.min(b,axis=0))),axis=0)\n",
    "    max_x,max_y = np.min(np.vstack((np.max(a,axis=0),np.max(b,axis=0))),axis=0)\n",
    "    intersection = np.clip((max_x - min_x),0,np.Inf)*np.clip((max_y-min_y),0,np.Inf)\n",
    "    union = (max_x_a - min_x_a)*((max_y_a - min_y_a)) + (max_x_b - min_x_b)*((max_y_b - min_y_b)) - intersection\n",
    "    return intersection/union"
   ]
  },
  {
   "cell_type": "code",
   "execution_count": 5,
   "metadata": {},
   "outputs": [
    {
     "data": {
      "text/plain": [
       "0.14672809454410665"
      ]
     },
     "execution_count": 5,
     "metadata": {},
     "output_type": "execute_result"
    }
   ],
   "source": [
    "iou(a,b)"
   ]
  },
  {
   "cell_type": "code",
   "execution_count": 31,
   "metadata": {},
   "outputs": [],
   "source": [
    "img = Image.new('RGB', tuple(np.max(np.vstack((a,b)),axis=0)), (0,0,0))\n",
    "draw = ImageDraw.Draw(img)\n",
    "draw.polygon([point for tup in a for point in tup],fill=(255,0,0))\n",
    "draw.polygon([point for tup in b for point in tup],fill=(0,255,0))"
   ]
  },
  {
   "cell_type": "code",
   "execution_count": 32,
   "metadata": {},
   "outputs": [
    {
     "data": {
      "text/plain": [
       "<matplotlib.image.AxesImage at 0x7f91a8c269b0>"
      ]
     },
     "execution_count": 32,
     "metadata": {},
     "output_type": "execute_result"
    },
    {
     "data": {
      "image/png": "[encoded data removed]",
      "text/plain": [
       "<Figure size 432x288 with 1 Axes>"
      ]
     },
     "metadata": {
      "needs_background": "light"
     },
     "output_type": "display_data"
    }
   ],
   "source": [
    "plt.imshow(np.array(img))"
   ]
  },
  {
   "cell_type": "code",
   "execution_count": 21,
   "metadata": {},
   "outputs": [
    {
     "data": {
      "text/plain": [
       "[571, 836, 571, 2606, 3917, 2606, 3917, 836]"
      ]
     },
     "execution_count": 21,
     "metadata": {},
     "output_type": "execute_result"
    }
   ],
   "source": [
    "[point for tup in a for point in tup]"
   ]
  },
  {
   "cell_type": "code",
   "execution_count": 40,
   "metadata": {},
   "outputs": [],
   "source": [
    "c=[{\n",
    "\t\t\t\t\"x\": 287,\n",
    "\t\t\t\t\"y\": 657\n",
    "\t\t\t}, {\n",
    "\t\t\t\t\"x\": 287,\n",
    "\t\t\t\t\"y\": 2563\n",
    "\t\t\t}, {\n",
    "\t\t\t\t\"x\": 3415,\n",
    "\t\t\t\t\"y\": 2563\n",
    "\t\t\t}, {\n",
    "\t\t\t\t\"x\": 3415,\n",
    "\t\t\t\t\"y\": 657\n",
    "\t\t\t}]\n",
    "d = [{\n",
    "\t\t\t\t\"x\": 1264,\n",
    "\t\t\t\t\"y\": 1517\n",
    "\t\t\t}, {\n",
    "\t\t\t\t\"x\": 1264,\n",
    "\t\t\t\t\"y\": 2497\n",
    "\t\t\t}, {\n",
    "\t\t\t\t\"x\": 3081,\n",
    "\t\t\t\t\"y\": 2497\n",
    "\t\t\t}, {\n",
    "\t\t\t\t\"x\": 3081,\n",
    "\t\t\t\t\"y\": 1517\n",
    "\t\t\t}]\n",
    "c = [[p['x'],p['y']] for p in c]\n",
    "d = [[p['x'],p['y']] for p in d]"
   ]
  },
  {
   "cell_type": "code",
   "execution_count": 41,
   "metadata": {},
   "outputs": [
    {
     "data": {
      "text/plain": [
       "<matplotlib.image.AxesImage at 0x7f91a8b9e940>"
      ]
     },
     "execution_count": 41,
     "metadata": {},
     "output_type": "execute_result"
    },
    {
     "data": {
      "image/png": "[encoded data removed]",
      "text/plain": [
       "<Figure size 432x288 with 1 Axes>"
      ]
     },
     "metadata": {
      "needs_background": "light"
     },
     "output_type": "display_data"
    }
   ],
   "source": [
    "img = Image.new('RGB', tuple(np.max(np.vstack((c,d)),axis=0)), (0,0,0))\n",
    "draw = ImageDraw.Draw(img)\n",
    "draw.polygon([point for tup in c for point in tup],fill=(255,0,0))\n",
    "draw.polygon([point for tup in d for point in tup],fill=(0,255,0))\n",
    "plt.imshow(np.array(img))"
   ]
  },
  {
   "cell_type": "code",
   "execution_count": 42,
   "metadata": {},
   "outputs": [
    {
     "data": {
      "text/plain": [
       "0.29866983519535834"
      ]
     },
     "execution_count": 42,
     "metadata": {},
     "output_type": "execute_result"
    }
   ],
   "source": [
    "iou(c,d)"
   ]
  },
  {
   "cell_type": "code",
   "execution_count": null,
   "metadata": {},
   "outputs": [],
   "source": []
  }
 ],
 "metadata": {
  "kernelspec": {
   "display_name": "Python 3",
   "language": "python",
   "name": "python3"
  },
  "language_info": {
   "codemirror_mode": {
    "name": "ipython",
    "version": 3
   },
   "file_extension": ".py",
   "mimetype": "text/x-python",
   "name": "python",
   "nbconvert_exporter": "python",
   "pygments_lexer": "ipython3",
   "version": "3.5.2"
  }
 },
 "nbformat": 4,
 "nbformat_minor": 2
}
