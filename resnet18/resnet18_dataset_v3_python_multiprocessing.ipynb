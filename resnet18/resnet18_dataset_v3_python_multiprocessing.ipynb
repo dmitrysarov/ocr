{
 "cells": [
  {
   "cell_type": "code",
   "execution_count": 1,
   "metadata": {},
   "outputs": [
    {
     "name": "stderr",
     "output_type": "stream",
     "text": [
      "/usr/local/lib/python3.5/dist-packages/h5py/__init__.py:36: FutureWarning: Conversion of the second argument of issubdtype from `float` to `np.floating` is deprecated. In future, it will be treated as `np.float64 == np.dtype(float).type`.\n",
      "  from ._conv import register_converters as _register_converters\n"
     ]
    }
   ],
   "source": [
    "import os                                                                          \n",
    "os.environ[\"CUDA_DEVICE_ORDER\"]=\"PCI_BUS_ID\"                                       \n",
    "os.environ[\"CUDA_VISIBLE_DEVICES\"]=\"0\"  \n",
    "from tensorflow.contrib.slim.nets import resnet_v2, resnet_utils\n",
    "import tensorflow as tf\n",
    "from tensorflow.contrib import layers as layers_lib\n",
    "from tensorflow.python.ops import variable_scope\n",
    "from tensorflow.contrib.layers.python.layers import utils\n",
    "from tensorflow.contrib import slim\n",
    "from tensorflow.nn import ctc_loss, conv2d\n",
    "import numpy as np\n",
    "resnet_v2_block = resnet_v2.resnet_v2_block\n",
    "resnet_v2 = resnet_v2.resnet_v2\n",
    "\n",
    "import matplotlib.pyplot as plt"
   ]
  },
  {
   "cell_type": "code",
   "execution_count": 2,
   "metadata": {},
   "outputs": [],
   "source": [
    "BATCH_SIZE = 32\n",
    "RESNET_STRIDE = 1\n",
    "IMAGE_HEIGHT = 32"
   ]
  },
  {
   "cell_type": "code",
   "execution_count": 3,
   "metadata": {},
   "outputs": [],
   "source": [
    "def resnet_v2_26_base(inputs,\n",
    "                 num_classes=None,\n",
    "                 is_training=True, # True - due to update batchnorm layers\n",
    "                 global_pool=False,\n",
    "                 output_stride=1, # effective stride \n",
    "                 reuse=None,\n",
    "                 include_root_block=False, #first conv layer. Removed due to max pool supression. We need large receprive field\n",
    "                 scope='resnet_v2_26'):\n",
    "  \n",
    "    \"\"\"\n",
    "    Tensorflow resnet_v2 use only bottleneck blocks (consist of 3 layers).\n",
    "    Thus, this resnet layer model consist of 26 layers.\n",
    "    I put stride = 2 on each block due to increase receptive field.\n",
    "\n",
    "    \"\"\"\n",
    "    blocks = [\n",
    "      resnet_v2_block('block1', base_depth=64, num_units=2, stride=2),\n",
    "      resnet_v2_block('block2', base_depth=128, num_units=2, stride=2),\n",
    "      resnet_v2_block('block3', base_depth=256, num_units=2, stride=2),\n",
    "      resnet_v2_block('block4', base_depth=512, num_units=2, stride=2),\n",
    "    ]\n",
    "    return resnet_v2(\n",
    "      inputs,\n",
    "      blocks,\n",
    "      num_classes,\n",
    "      is_training,\n",
    "      global_pool,\n",
    "      output_stride,\n",
    "      include_root_block,\n",
    "      reuse=reuse,\n",
    "      scope=scope)\n",
    "\n",
    "def make_ocr_net(inputs, num_classes, is_training=True):\n",
    "    '''\n",
    "    Creates neural network graph.\n",
    "    Image width halved and it's define timestamps width (feature sequence length) \n",
    "    No activation after output (no softmax), due to it's presence at ctc_loss() and beam_search().\n",
    "    After resnet head features are resized to be [batch,1,width,channel], and after that goes 1x1 conv \n",
    "    to make anology of dense connaction for each timestamp.\n",
    "    \n",
    "    input: batch of images\n",
    "    output: tensor of size [batch, time_stamps_width, num_classes]\n",
    "    '''\n",
    "    with tf.variable_scope('resnet_base', values=[inputs]) as sc:\n",
    "        with slim.arg_scope([slim.conv2d],\n",
    "                              activation_fn=None, normalizer_fn=None):\n",
    "            net = resnet_utils.conv2d_same(inputs, 64, 7, stride=2, scope='conv1') #root conv for resnet\n",
    "            #net = slim.max_pool2d(net, [3, 3], stride=2, scope='pool1') # due to enlarge of receptive field\n",
    "            net = resnet_v2_26_base(net, output_stride=1, is_training = is_training)[0] # ouput is a tuple of last tensor and all tensors \n",
    "    with tf.variable_scope('class_head', values=[net]) as sc:\n",
    "        net = tf.transpose(net, [0,3,1,2]) # next 4 lines due to column to channel reshape. [batch,c,h,w]\n",
    "        _,c,h,_ = net.get_shape() # depth of input to conv op tensor should be static (defined)\n",
    "        shape = tf.shape(net)\n",
    "        net = tf.reshape(net, [shape[0], c*h, 1, shape[3]])\n",
    "        net = tf.transpose(net,[0,2,3,1]) # back to [batch,h,w,c] = [batch,1,w,features*h]\n",
    "        net = layers_lib.conv2d(net, num_classes, [1, 1], activation_fn=None) #CTC got softmax [batch,1,w,num_classes]\n",
    "        net = tf.squeeze(net,1) #[batch,w,num_classes]\n",
    "        return net\n",
    "\n",
    "def ctc_loss_layer(sequence_labels, logits, sequence_length):\n",
    "    \"\"\"\n",
    "    Build CTC Loss layer for training\n",
    "    sequence_length is a list of siquences lengths, len(sequence_length) = batch_size.\n",
    "    In our case sequences can not be different size due to it origin of images batch, \n",
    "    which should be of equal size (e.g. padded)\n",
    "    \"\"\"\n",
    "    loss = tf.nn.ctc_loss( sequence_labels, \n",
    "                           logits, \n",
    "                           sequence_length,\n",
    "                           time_major=False,  # [batch_size, max_time, num_classes] for logits\n",
    "                           ignore_longer_outputs_than_inputs=True )\n",
    "    total_loss = tf.reduce_mean( loss )\n",
    "    return total_loss\n",
    "\n",
    "def get_training(sequence_labels, net_logits, sequence_length, \n",
    "                   learning_rate=1e-4, decay_steps=2**16, decay_rate=0.9, decay_staircase=False, \n",
    "                   momentum=0.9):\n",
    "    \"\"\"\n",
    "    Set up training ops\n",
    "    https://github.com/weinman/cnn_lstm_ctc_ocr/blob/master/src/model_fn.py\n",
    "    \"\"\"\n",
    "    with tf.name_scope( \"train\" ):\n",
    "        net_logits_vars = tf.get_collection(tf.GraphKeys.TRAINABLE_VARIABLES)        \n",
    "        loss = ctc_loss_layer(sequence_labels, net_logits, sequence_length) \n",
    "        # Update batch norm stats [http://stackoverflow.com/questions/43234667]\n",
    "        extra_update_ops = tf.get_collection( tf.GraphKeys.UPDATE_OPS )\n",
    "        with tf.control_dependencies( extra_update_ops ):\n",
    "            # Calculate the learning rate given the parameters\n",
    "#             learning_rate_tensor = tf.train.exponential_decay(\n",
    "#                 learning_rate,\n",
    "#                 tf.train.get_global_step(),\n",
    "#                 decay_steps,\n",
    "#                 decay_rate,\n",
    "#                 staircase=decay_staircase,\n",
    "#                 name='learning_rate' )\n",
    "            learning_rate_tensor = learning_rate\n",
    "            optimizer = tf.train.AdamOptimizer(\n",
    "                learning_rate=learning_rate_tensor,\n",
    "                beta1=momentum )\n",
    "            train_op = tf.contrib.layers.optimize_loss(\n",
    "                loss=loss,\n",
    "                global_step=tf.train.get_global_step(),\n",
    "                learning_rate=learning_rate_tensor, \n",
    "                optimizer=optimizer,\n",
    "                variables=net_logits_vars)\n",
    "    return train_op, loss, learning_rate_tensor\n",
    "\n",
    "def get_prediction(output_net, seq_len, merge_repeated=False):\n",
    "    '''\n",
    "    predict by using beam search\n",
    "    input: output_net - logits (without softmax) of net\n",
    "           seq_len - length of predicted sequence \n",
    "    '''\n",
    "    net = tf.transpose(output_net, [1, 0, 2]) #transpose to [time, batch, logits]\n",
    "    decoded, prob = tf.nn.ctc_beam_search_decoder(net, seq_len, merge_repeated=merge_repeated)\n",
    "    return decoded, prob\n",
    "\n",
    "def get_min_max_dist_image_label_pred(input_image_batch, sequence_labels, distances, prediction, table):\n",
    "    sequence_labels_dense = tf.sparse_to_dense(sequence_labels.indices, sequence_labels.dense_shape, \n",
    "                                               sequence_labels.values)   \n",
    "    distances = tf.Print(distances, [distances])\n",
    "    max_indx = tf.argmax(distances)\n",
    "    min_indx = tf.argmin(distances)\n",
    "    max_image = tf.expand_dims(tf.gather(input_image_batch, max_indx),0)\n",
    "    min_image = tf.expand_dims(tf.gather(input_image_batch, min_indx),0)\n",
    "    max_label = tf.gather(sequence_labels_dense, max_indx)\n",
    "    max_label_string = table.lookup(tf.cast(max_label, tf.int64)-1)\n",
    "    min_label = tf.gather(sequence_labels_dense, min_indx)\n",
    "    min_label_string = table.lookup(tf.cast(min_label, tf.int64)-1)\n",
    "    pred_dense = tf.sparse_to_dense(prediction[0][0].indices, prediction[0][0].dense_shape, \n",
    "                                               prediction[0][0].values)\n",
    "    max_prediction = tf.gather(pred_dense, max_indx)\n",
    "    max_prediction_string = table.lookup(tf.cast(max_prediction, tf.int64)-1)\n",
    "    min_prediction = tf.gather(pred_dense, min_indx)\n",
    "    min_prediction_string = table.lookup(tf.cast(min_prediction, tf.int64)-1)\n",
    "    with tf.name_scope('prediction_image'):\n",
    "        tf.summary.image('Max distance image', max_image)\n",
    "        tf.summary.image('Min distance image', min_image)\n",
    "        tf.summary.text('Max distance gt label', max_label_string)\n",
    "        tf.summary.text('Min distance gt label', min_label_string)\n",
    "        tf.summary.text('Max distance pred label', max_prediction_string)\n",
    "        tf.summary.text('Min distance pred label', min_prediction_string)\n",
    "    return tf.summary.merge_all(scope='prediction_image')"
   ]
  },
  {
   "cell_type": "code",
   "execution_count": 4,
   "metadata": {},
   "outputs": [],
   "source": [
    "class OCRModel(object):\n",
    "    def __init__(self, charset, input_image_batch, sequence_labels, is_training=True, learning_rate=1e-4,\n",
    "                decay_steps=2**16, decay_rate=0.9, decay_staircase=False, momentum=0.9):\n",
    "        self.charset = charset\n",
    "        self.num_classes = len(charset)+2 #indexing starts from one, +empty char. Yes, I know that I got 0-th rudimental output, whatever\n",
    "        self.is_training = is_training\n",
    "        self.learning_rate = learning_rate\n",
    "        self.decay_steps = decay_steps\n",
    "        self.decay_rate = decay_rate \n",
    "        self.decay_staircase = decay_staircase\n",
    "        self.momentum = momentum\n",
    "        mapping_char = tf.constant(list(charset))\n",
    "        self.table = tf.contrib.lookup.index_to_string_table_from_tensor(\n",
    "                    mapping_char, default_value=\"blank\")\n",
    "        self.build(input_image_batch, sequence_labels)\n",
    "        \n",
    "    def build(self, input_image_batch, sequence_labels):\n",
    "      \n",
    "        self.input_image_batch = input_image_batch\n",
    "        self.sequence_labels = sequence_labels\n",
    "        self.feature_seq_length = tf.fill([tf.shape(self.input_image_batch)[0]], tf.shape(self.input_image_batch)[2]//(2*RESNET_STRIDE)) #as we know effective stride\n",
    "        \n",
    "        net = make_ocr_net(self.input_image_batch, self.num_classes, is_training=self.is_training)\n",
    "        self.net = net\n",
    "        self.train_op, self.loss, self.learning_rate_tensor = get_training(self.sequence_labels, net, self.feature_seq_length,\n",
    "                                                self.learning_rate, self.decay_steps, \n",
    "                                                self.decay_rate, self.decay_staircase, self.momentum)\n",
    "        self.prediction = get_prediction(net, self.feature_seq_length, merge_repeated=False) # tuple(decoded, prob). decoded - list of top paths. I use top1\n",
    "        lev_dist_batch = tf.edit_distance(tf.cast(self.prediction[0][0], tf.int32), self.sequence_labels)\n",
    "        self.lev_dist = tf.reduce_mean(lev_dist_batch)\n",
    "        \n",
    "        with tf.name_scope('prediction_metrics'):\n",
    "            tf.summary.scalar('CTC loss', self.loss)\n",
    "            tf.summary.scalar('Levenshtein distance', self.lev_dist)\n",
    "            tf.summary.scalar('Learning rate', self.learning_rate_tensor)\n",
    "        self.merged_summary_metrics = tf.summary.merge_all(scope='prediction_metrics')\n",
    "        self.merged_summary_image = get_min_max_dist_image_label_pred(input_image_batch, sequence_labels, \n",
    "                                                                      lev_dist_batch, self.prediction, \n",
    "                                                                      self.table)\n",
    " "
   ]
  },
  {
   "cell_type": "code",
   "execution_count": 5,
   "metadata": {},
   "outputs": [],
   "source": [
    "import sys\n",
    "sys.path.append('../../data_generator/')\n",
    "from data_generator import data_generator\n",
    "dg = data_generator(backgrounds_path='../../data_generator/backgrounds/', \n",
    "                                   fonts_path='../../data_generator/valid_fonts/',\n",
    "                                   valid_charset_path='../../data_generator/valid_charset.txt')"
   ]
  },
  {
   "cell_type": "code",
   "execution_count": 6,
   "metadata": {},
   "outputs": [],
   "source": [
    "def helper(*arg):\n",
    "    '''\n",
    "    we need this function to handle size of generator class which cannot be pickled \n",
    "    '''\n",
    "    image, label = dg.get_image_and_label()\n",
    "    image = image/255\n",
    "    image = image - 0.5\n",
    "    return image, label"
   ]
  },
  {
   "cell_type": "code",
   "execution_count": 7,
   "metadata": {},
   "outputs": [],
   "source": [
    "import multiprocessing\n",
    "pool = multiprocessing.Pool(processes=100)\n",
    "def local_data_generator():\n",
    "    while True:\n",
    "        image_label_pairs = pool.map(helper, range(BATCH_SIZE))\n",
    "        image_batch, string_batch = zip(*image_label_pairs)\n",
    "        yield image_batch, string_batch"
   ]
  },
  {
   "cell_type": "code",
   "execution_count": 8,
   "metadata": {},
   "outputs": [],
   "source": [
    "# all_chars = ' !\"%&()*+,-./0123456789:=ABCDEFGHIJKLMNOPQRSTUVWXYZ\\\\_abcdefghijklmnopqrstuvwxyz|~ЁАБВГДЕЖЗИЙКЛМНОПРСТУФХЦЧШЩЪЫЬЭЮЯабвгдежзийклмнопрстуфхцчшщъыьэюяё№'\n",
    "all_chars = list(set(dg.valid_charset))\n",
    "char_to_indx = dict(zip(all_chars,range(len(all_chars))))\n",
    "num_classes = len(all_chars)\n",
    "# def string_to_label(string):\n",
    "#     label = [char_to_indx[s] for s in string]\n",
    "#     return label\n",
    "\n",
    "# def batch_to_sparse(batch, dtype=np.int32): #batch of words\n",
    "#     '''\n",
    "#     function return sparce represantance of labels.\n",
    "#     input: batch - batch of words (List of words)\n",
    "#     output: indices - list of indexes [batch_num,time_stamp_num]\n",
    "#             values - list of char indexes shape [batch]\n",
    "#             shape - shape of dense batch represantation\n",
    "#     '''\n",
    "#     assert isinstance(batch, list) or isinstance(batch, np.ndarray), 'batch should be a list or numpy array of strings'\n",
    "#     indices = [] #[batch_num,w]\n",
    "#     values = [] # char indx\n",
    "#     for batch_num, word in enumerate(batch):\n",
    "#         assert isinstance(word,str), 'batch element should be a string'\n",
    "#         word_as_indx = string_to_label(word)\n",
    "#         indices.extend([(batch_num,char_num) for char_num, char in enumerate(word_as_indx)])\n",
    "#         values.extend([char for char_num, char in enumerate(word_as_indx)])\n",
    "#     indices = np.asarray(indices, dtype=dtype)\n",
    "#     values = np.asarray(values, dtype=dtype)\n",
    "#     shape = np.array([len(batch),indices.max(0)[1]+1], dtype=dtype)\n",
    "#     return indices, values, shape\n",
    "# def from_sparse_to_batch():\n",
    "#     pass"
   ]
  },
  {
   "cell_type": "code",
   "execution_count": 9,
   "metadata": {},
   "outputs": [
    {
     "name": "stdout",
     "output_type": "stream",
     "text": [
      "INFO:tensorflow:Summary name CTC loss is illegal; using CTC_loss instead.\n"
     ]
    },
    {
     "name": "stderr",
     "output_type": "stream",
     "text": [
      "INFO:tensorflow:Summary name CTC loss is illegal; using CTC_loss instead.\n"
     ]
    },
    {
     "name": "stdout",
     "output_type": "stream",
     "text": [
      "INFO:tensorflow:Summary name Levenshtein distance is illegal; using Levenshtein_distance instead.\n"
     ]
    },
    {
     "name": "stderr",
     "output_type": "stream",
     "text": [
      "INFO:tensorflow:Summary name Levenshtein distance is illegal; using Levenshtein_distance instead.\n"
     ]
    },
    {
     "name": "stdout",
     "output_type": "stream",
     "text": [
      "INFO:tensorflow:Summary name Learning rate is illegal; using Learning_rate instead.\n"
     ]
    },
    {
     "name": "stderr",
     "output_type": "stream",
     "text": [
      "INFO:tensorflow:Summary name Learning rate is illegal; using Learning_rate instead.\n"
     ]
    },
    {
     "name": "stdout",
     "output_type": "stream",
     "text": [
      "INFO:tensorflow:Summary name Max distance image is illegal; using Max_distance_image instead.\n"
     ]
    },
    {
     "name": "stderr",
     "output_type": "stream",
     "text": [
      "INFO:tensorflow:Summary name Max distance image is illegal; using Max_distance_image instead.\n"
     ]
    },
    {
     "name": "stdout",
     "output_type": "stream",
     "text": [
      "INFO:tensorflow:Summary name Min distance image is illegal; using Min_distance_image instead.\n"
     ]
    },
    {
     "name": "stderr",
     "output_type": "stream",
     "text": [
      "INFO:tensorflow:Summary name Min distance image is illegal; using Min_distance_image instead.\n"
     ]
    },
    {
     "name": "stdout",
     "output_type": "stream",
     "text": [
      "INFO:tensorflow:Summary name Max distance gt label is illegal; using Max_distance_gt_label instead.\n"
     ]
    },
    {
     "name": "stderr",
     "output_type": "stream",
     "text": [
      "INFO:tensorflow:Summary name Max distance gt label is illegal; using Max_distance_gt_label instead.\n"
     ]
    },
    {
     "name": "stdout",
     "output_type": "stream",
     "text": [
      "INFO:tensorflow:Summary name Min distance gt label is illegal; using Min_distance_gt_label instead.\n"
     ]
    },
    {
     "name": "stderr",
     "output_type": "stream",
     "text": [
      "INFO:tensorflow:Summary name Min distance gt label is illegal; using Min_distance_gt_label instead.\n"
     ]
    },
    {
     "name": "stdout",
     "output_type": "stream",
     "text": [
      "INFO:tensorflow:Summary name Max distance pred label is illegal; using Max_distance_pred_label instead.\n"
     ]
    },
    {
     "name": "stderr",
     "output_type": "stream",
     "text": [
      "INFO:tensorflow:Summary name Max distance pred label is illegal; using Max_distance_pred_label instead.\n"
     ]
    },
    {
     "name": "stdout",
     "output_type": "stream",
     "text": [
      "INFO:tensorflow:Summary name Min distance pred label is illegal; using Min_distance_pred_label instead.\n"
     ]
    },
    {
     "name": "stderr",
     "output_type": "stream",
     "text": [
      "INFO:tensorflow:Summary name Min distance pred label is illegal; using Min_distance_pred_label instead.\n"
     ]
    },
    {
     "name": "stdout",
     "output_type": "stream",
     "text": [
      "INFO:tensorflow:Summary name resnet_base/conv1/weights:0 is illegal; using resnet_base/conv1/weights_0 instead.\n"
     ]
    },
    {
     "name": "stderr",
     "output_type": "stream",
     "text": [
      "INFO:tensorflow:Summary name resnet_base/conv1/weights:0 is illegal; using resnet_base/conv1/weights_0 instead.\n"
     ]
    },
    {
     "name": "stdout",
     "output_type": "stream",
     "text": [
      "INFO:tensorflow:Summary name resnet_base/conv1/biases:0 is illegal; using resnet_base/conv1/biases_0 instead.\n"
     ]
    },
    {
     "name": "stderr",
     "output_type": "stream",
     "text": [
      "INFO:tensorflow:Summary name resnet_base/conv1/biases:0 is illegal; using resnet_base/conv1/biases_0 instead.\n"
     ]
    },
    {
     "name": "stdout",
     "output_type": "stream",
     "text": [
      "INFO:tensorflow:Summary name resnet_base/resnet_v2_26/block1/unit_1/bottleneck_v2/preact/beta:0 is illegal; using resnet_base/resnet_v2_26/block1/unit_1/bottleneck_v2/preact/beta_0 instead.\n"
     ]
    },
    {
     "name": "stderr",
     "output_type": "stream",
     "text": [
      "INFO:tensorflow:Summary name resnet_base/resnet_v2_26/block1/unit_1/bottleneck_v2/preact/beta:0 is illegal; using resnet_base/resnet_v2_26/block1/unit_1/bottleneck_v2/preact/beta_0 instead.\n"
     ]
    },
    {
     "name": "stdout",
     "output_type": "stream",
     "text": [
      "INFO:tensorflow:Summary name resnet_base/resnet_v2_26/block1/unit_1/bottleneck_v2/shortcut/weights:0 is illegal; using resnet_base/resnet_v2_26/block1/unit_1/bottleneck_v2/shortcut/weights_0 instead.\n"
     ]
    },
    {
     "name": "stderr",
     "output_type": "stream",
     "text": [
      "INFO:tensorflow:Summary name resnet_base/resnet_v2_26/block1/unit_1/bottleneck_v2/shortcut/weights:0 is illegal; using resnet_base/resnet_v2_26/block1/unit_1/bottleneck_v2/shortcut/weights_0 instead.\n"
     ]
    },
    {
     "name": "stdout",
     "output_type": "stream",
     "text": [
      "INFO:tensorflow:Summary name resnet_base/resnet_v2_26/block1/unit_1/bottleneck_v2/shortcut/biases:0 is illegal; using resnet_base/resnet_v2_26/block1/unit_1/bottleneck_v2/shortcut/biases_0 instead.\n"
     ]
    },
    {
     "name": "stderr",
     "output_type": "stream",
     "text": [
      "INFO:tensorflow:Summary name resnet_base/resnet_v2_26/block1/unit_1/bottleneck_v2/shortcut/biases:0 is illegal; using resnet_base/resnet_v2_26/block1/unit_1/bottleneck_v2/shortcut/biases_0 instead.\n"
     ]
    },
    {
     "name": "stdout",
     "output_type": "stream",
     "text": [
      "INFO:tensorflow:Summary name resnet_base/resnet_v2_26/block1/unit_1/bottleneck_v2/conv1/weights:0 is illegal; using resnet_base/resnet_v2_26/block1/unit_1/bottleneck_v2/conv1/weights_0 instead.\n"
     ]
    },
    {
     "name": "stderr",
     "output_type": "stream",
     "text": [
      "INFO:tensorflow:Summary name resnet_base/resnet_v2_26/block1/unit_1/bottleneck_v2/conv1/weights:0 is illegal; using resnet_base/resnet_v2_26/block1/unit_1/bottleneck_v2/conv1/weights_0 instead.\n"
     ]
    },
    {
     "name": "stdout",
     "output_type": "stream",
     "text": [
      "INFO:tensorflow:Summary name resnet_base/resnet_v2_26/block1/unit_1/bottleneck_v2/conv1/biases:0 is illegal; using resnet_base/resnet_v2_26/block1/unit_1/bottleneck_v2/conv1/biases_0 instead.\n"
     ]
    },
    {
     "name": "stderr",
     "output_type": "stream",
     "text": [
      "INFO:tensorflow:Summary name resnet_base/resnet_v2_26/block1/unit_1/bottleneck_v2/conv1/biases:0 is illegal; using resnet_base/resnet_v2_26/block1/unit_1/bottleneck_v2/conv1/biases_0 instead.\n"
     ]
    },
    {
     "name": "stdout",
     "output_type": "stream",
     "text": [
      "INFO:tensorflow:Summary name resnet_base/resnet_v2_26/block1/unit_1/bottleneck_v2/conv2/weights:0 is illegal; using resnet_base/resnet_v2_26/block1/unit_1/bottleneck_v2/conv2/weights_0 instead.\n"
     ]
    },
    {
     "name": "stderr",
     "output_type": "stream",
     "text": [
      "INFO:tensorflow:Summary name resnet_base/resnet_v2_26/block1/unit_1/bottleneck_v2/conv2/weights:0 is illegal; using resnet_base/resnet_v2_26/block1/unit_1/bottleneck_v2/conv2/weights_0 instead.\n"
     ]
    },
    {
     "name": "stdout",
     "output_type": "stream",
     "text": [
      "INFO:tensorflow:Summary name resnet_base/resnet_v2_26/block1/unit_1/bottleneck_v2/conv2/biases:0 is illegal; using resnet_base/resnet_v2_26/block1/unit_1/bottleneck_v2/conv2/biases_0 instead.\n"
     ]
    },
    {
     "name": "stderr",
     "output_type": "stream",
     "text": [
      "INFO:tensorflow:Summary name resnet_base/resnet_v2_26/block1/unit_1/bottleneck_v2/conv2/biases:0 is illegal; using resnet_base/resnet_v2_26/block1/unit_1/bottleneck_v2/conv2/biases_0 instead.\n"
     ]
    },
    {
     "name": "stdout",
     "output_type": "stream",
     "text": [
      "INFO:tensorflow:Summary name resnet_base/resnet_v2_26/block1/unit_1/bottleneck_v2/conv3/weights:0 is illegal; using resnet_base/resnet_v2_26/block1/unit_1/bottleneck_v2/conv3/weights_0 instead.\n"
     ]
    },
    {
     "name": "stderr",
     "output_type": "stream",
     "text": [
      "INFO:tensorflow:Summary name resnet_base/resnet_v2_26/block1/unit_1/bottleneck_v2/conv3/weights:0 is illegal; using resnet_base/resnet_v2_26/block1/unit_1/bottleneck_v2/conv3/weights_0 instead.\n"
     ]
    },
    {
     "name": "stdout",
     "output_type": "stream",
     "text": [
      "INFO:tensorflow:Summary name resnet_base/resnet_v2_26/block1/unit_1/bottleneck_v2/conv3/biases:0 is illegal; using resnet_base/resnet_v2_26/block1/unit_1/bottleneck_v2/conv3/biases_0 instead.\n"
     ]
    },
    {
     "name": "stderr",
     "output_type": "stream",
     "text": [
      "INFO:tensorflow:Summary name resnet_base/resnet_v2_26/block1/unit_1/bottleneck_v2/conv3/biases:0 is illegal; using resnet_base/resnet_v2_26/block1/unit_1/bottleneck_v2/conv3/biases_0 instead.\n"
     ]
    },
    {
     "name": "stdout",
     "output_type": "stream",
     "text": [
      "INFO:tensorflow:Summary name resnet_base/resnet_v2_26/block1/unit_2/bottleneck_v2/preact/beta:0 is illegal; using resnet_base/resnet_v2_26/block1/unit_2/bottleneck_v2/preact/beta_0 instead.\n"
     ]
    },
    {
     "name": "stderr",
     "output_type": "stream",
     "text": [
      "INFO:tensorflow:Summary name resnet_base/resnet_v2_26/block1/unit_2/bottleneck_v2/preact/beta:0 is illegal; using resnet_base/resnet_v2_26/block1/unit_2/bottleneck_v2/preact/beta_0 instead.\n"
     ]
    },
    {
     "name": "stdout",
     "output_type": "stream",
     "text": [
      "INFO:tensorflow:Summary name resnet_base/resnet_v2_26/block1/unit_2/bottleneck_v2/conv1/weights:0 is illegal; using resnet_base/resnet_v2_26/block1/unit_2/bottleneck_v2/conv1/weights_0 instead.\n"
     ]
    },
    {
     "name": "stderr",
     "output_type": "stream",
     "text": [
      "INFO:tensorflow:Summary name resnet_base/resnet_v2_26/block1/unit_2/bottleneck_v2/conv1/weights:0 is illegal; using resnet_base/resnet_v2_26/block1/unit_2/bottleneck_v2/conv1/weights_0 instead.\n"
     ]
    },
    {
     "name": "stdout",
     "output_type": "stream",
     "text": [
      "INFO:tensorflow:Summary name resnet_base/resnet_v2_26/block1/unit_2/bottleneck_v2/conv1/biases:0 is illegal; using resnet_base/resnet_v2_26/block1/unit_2/bottleneck_v2/conv1/biases_0 instead.\n"
     ]
    },
    {
     "name": "stderr",
     "output_type": "stream",
     "text": [
      "INFO:tensorflow:Summary name resnet_base/resnet_v2_26/block1/unit_2/bottleneck_v2/conv1/biases:0 is illegal; using resnet_base/resnet_v2_26/block1/unit_2/bottleneck_v2/conv1/biases_0 instead.\n"
     ]
    },
    {
     "name": "stdout",
     "output_type": "stream",
     "text": [
      "INFO:tensorflow:Summary name resnet_base/resnet_v2_26/block1/unit_2/bottleneck_v2/conv2/weights:0 is illegal; using resnet_base/resnet_v2_26/block1/unit_2/bottleneck_v2/conv2/weights_0 instead.\n"
     ]
    },
    {
     "name": "stderr",
     "output_type": "stream",
     "text": [
      "INFO:tensorflow:Summary name resnet_base/resnet_v2_26/block1/unit_2/bottleneck_v2/conv2/weights:0 is illegal; using resnet_base/resnet_v2_26/block1/unit_2/bottleneck_v2/conv2/weights_0 instead.\n"
     ]
    },
    {
     "name": "stdout",
     "output_type": "stream",
     "text": [
      "INFO:tensorflow:Summary name resnet_base/resnet_v2_26/block1/unit_2/bottleneck_v2/conv2/biases:0 is illegal; using resnet_base/resnet_v2_26/block1/unit_2/bottleneck_v2/conv2/biases_0 instead.\n"
     ]
    },
    {
     "name": "stderr",
     "output_type": "stream",
     "text": [
      "INFO:tensorflow:Summary name resnet_base/resnet_v2_26/block1/unit_2/bottleneck_v2/conv2/biases:0 is illegal; using resnet_base/resnet_v2_26/block1/unit_2/bottleneck_v2/conv2/biases_0 instead.\n"
     ]
    },
    {
     "name": "stdout",
     "output_type": "stream",
     "text": [
      "INFO:tensorflow:Summary name resnet_base/resnet_v2_26/block1/unit_2/bottleneck_v2/conv3/weights:0 is illegal; using resnet_base/resnet_v2_26/block1/unit_2/bottleneck_v2/conv3/weights_0 instead.\n"
     ]
    },
    {
     "name": "stderr",
     "output_type": "stream",
     "text": [
      "INFO:tensorflow:Summary name resnet_base/resnet_v2_26/block1/unit_2/bottleneck_v2/conv3/weights:0 is illegal; using resnet_base/resnet_v2_26/block1/unit_2/bottleneck_v2/conv3/weights_0 instead.\n"
     ]
    },
    {
     "name": "stdout",
     "output_type": "stream",
     "text": [
      "INFO:tensorflow:Summary name resnet_base/resnet_v2_26/block1/unit_2/bottleneck_v2/conv3/biases:0 is illegal; using resnet_base/resnet_v2_26/block1/unit_2/bottleneck_v2/conv3/biases_0 instead.\n"
     ]
    },
    {
     "name": "stderr",
     "output_type": "stream",
     "text": [
      "INFO:tensorflow:Summary name resnet_base/resnet_v2_26/block1/unit_2/bottleneck_v2/conv3/biases:0 is illegal; using resnet_base/resnet_v2_26/block1/unit_2/bottleneck_v2/conv3/biases_0 instead.\n"
     ]
    },
    {
     "name": "stdout",
     "output_type": "stream",
     "text": [
      "INFO:tensorflow:Summary name resnet_base/resnet_v2_26/block2/unit_1/bottleneck_v2/preact/beta:0 is illegal; using resnet_base/resnet_v2_26/block2/unit_1/bottleneck_v2/preact/beta_0 instead.\n"
     ]
    },
    {
     "name": "stderr",
     "output_type": "stream",
     "text": [
      "INFO:tensorflow:Summary name resnet_base/resnet_v2_26/block2/unit_1/bottleneck_v2/preact/beta:0 is illegal; using resnet_base/resnet_v2_26/block2/unit_1/bottleneck_v2/preact/beta_0 instead.\n"
     ]
    },
    {
     "name": "stdout",
     "output_type": "stream",
     "text": [
      "INFO:tensorflow:Summary name resnet_base/resnet_v2_26/block2/unit_1/bottleneck_v2/shortcut/weights:0 is illegal; using resnet_base/resnet_v2_26/block2/unit_1/bottleneck_v2/shortcut/weights_0 instead.\n"
     ]
    },
    {
     "name": "stderr",
     "output_type": "stream",
     "text": [
      "INFO:tensorflow:Summary name resnet_base/resnet_v2_26/block2/unit_1/bottleneck_v2/shortcut/weights:0 is illegal; using resnet_base/resnet_v2_26/block2/unit_1/bottleneck_v2/shortcut/weights_0 instead.\n"
     ]
    },
    {
     "name": "stdout",
     "output_type": "stream",
     "text": [
      "INFO:tensorflow:Summary name resnet_base/resnet_v2_26/block2/unit_1/bottleneck_v2/shortcut/biases:0 is illegal; using resnet_base/resnet_v2_26/block2/unit_1/bottleneck_v2/shortcut/biases_0 instead.\n"
     ]
    },
    {
     "name": "stderr",
     "output_type": "stream",
     "text": [
      "INFO:tensorflow:Summary name resnet_base/resnet_v2_26/block2/unit_1/bottleneck_v2/shortcut/biases:0 is illegal; using resnet_base/resnet_v2_26/block2/unit_1/bottleneck_v2/shortcut/biases_0 instead.\n"
     ]
    },
    {
     "name": "stdout",
     "output_type": "stream",
     "text": [
      "INFO:tensorflow:Summary name resnet_base/resnet_v2_26/block2/unit_1/bottleneck_v2/conv1/weights:0 is illegal; using resnet_base/resnet_v2_26/block2/unit_1/bottleneck_v2/conv1/weights_0 instead.\n"
     ]
    },
    {
     "name": "stderr",
     "output_type": "stream",
     "text": [
      "INFO:tensorflow:Summary name resnet_base/resnet_v2_26/block2/unit_1/bottleneck_v2/conv1/weights:0 is illegal; using resnet_base/resnet_v2_26/block2/unit_1/bottleneck_v2/conv1/weights_0 instead.\n"
     ]
    },
    {
     "name": "stdout",
     "output_type": "stream",
     "text": [
      "INFO:tensorflow:Summary name resnet_base/resnet_v2_26/block2/unit_1/bottleneck_v2/conv1/biases:0 is illegal; using resnet_base/resnet_v2_26/block2/unit_1/bottleneck_v2/conv1/biases_0 instead.\n"
     ]
    },
    {
     "name": "stderr",
     "output_type": "stream",
     "text": [
      "INFO:tensorflow:Summary name resnet_base/resnet_v2_26/block2/unit_1/bottleneck_v2/conv1/biases:0 is illegal; using resnet_base/resnet_v2_26/block2/unit_1/bottleneck_v2/conv1/biases_0 instead.\n"
     ]
    },
    {
     "name": "stdout",
     "output_type": "stream",
     "text": [
      "INFO:tensorflow:Summary name resnet_base/resnet_v2_26/block2/unit_1/bottleneck_v2/conv2/weights:0 is illegal; using resnet_base/resnet_v2_26/block2/unit_1/bottleneck_v2/conv2/weights_0 instead.\n"
     ]
    },
    {
     "name": "stderr",
     "output_type": "stream",
     "text": [
      "INFO:tensorflow:Summary name resnet_base/resnet_v2_26/block2/unit_1/bottleneck_v2/conv2/weights:0 is illegal; using resnet_base/resnet_v2_26/block2/unit_1/bottleneck_v2/conv2/weights_0 instead.\n"
     ]
    },
    {
     "name": "stdout",
     "output_type": "stream",
     "text": [
      "INFO:tensorflow:Summary name resnet_base/resnet_v2_26/block2/unit_1/bottleneck_v2/conv2/biases:0 is illegal; using resnet_base/resnet_v2_26/block2/unit_1/bottleneck_v2/conv2/biases_0 instead.\n"
     ]
    },
    {
     "name": "stderr",
     "output_type": "stream",
     "text": [
      "INFO:tensorflow:Summary name resnet_base/resnet_v2_26/block2/unit_1/bottleneck_v2/conv2/biases:0 is illegal; using resnet_base/resnet_v2_26/block2/unit_1/bottleneck_v2/conv2/biases_0 instead.\n"
     ]
    },
    {
     "name": "stdout",
     "output_type": "stream",
     "text": [
      "INFO:tensorflow:Summary name resnet_base/resnet_v2_26/block2/unit_1/bottleneck_v2/conv3/weights:0 is illegal; using resnet_base/resnet_v2_26/block2/unit_1/bottleneck_v2/conv3/weights_0 instead.\n"
     ]
    },
    {
     "name": "stderr",
     "output_type": "stream",
     "text": [
      "INFO:tensorflow:Summary name resnet_base/resnet_v2_26/block2/unit_1/bottleneck_v2/conv3/weights:0 is illegal; using resnet_base/resnet_v2_26/block2/unit_1/bottleneck_v2/conv3/weights_0 instead.\n"
     ]
    },
    {
     "name": "stdout",
     "output_type": "stream",
     "text": [
      "INFO:tensorflow:Summary name resnet_base/resnet_v2_26/block2/unit_1/bottleneck_v2/conv3/biases:0 is illegal; using resnet_base/resnet_v2_26/block2/unit_1/bottleneck_v2/conv3/biases_0 instead.\n"
     ]
    },
    {
     "name": "stderr",
     "output_type": "stream",
     "text": [
      "INFO:tensorflow:Summary name resnet_base/resnet_v2_26/block2/unit_1/bottleneck_v2/conv3/biases:0 is illegal; using resnet_base/resnet_v2_26/block2/unit_1/bottleneck_v2/conv3/biases_0 instead.\n"
     ]
    },
    {
     "name": "stdout",
     "output_type": "stream",
     "text": [
      "INFO:tensorflow:Summary name resnet_base/resnet_v2_26/block2/unit_2/bottleneck_v2/preact/beta:0 is illegal; using resnet_base/resnet_v2_26/block2/unit_2/bottleneck_v2/preact/beta_0 instead.\n"
     ]
    },
    {
     "name": "stderr",
     "output_type": "stream",
     "text": [
      "INFO:tensorflow:Summary name resnet_base/resnet_v2_26/block2/unit_2/bottleneck_v2/preact/beta:0 is illegal; using resnet_base/resnet_v2_26/block2/unit_2/bottleneck_v2/preact/beta_0 instead.\n"
     ]
    },
    {
     "name": "stdout",
     "output_type": "stream",
     "text": [
      "INFO:tensorflow:Summary name resnet_base/resnet_v2_26/block2/unit_2/bottleneck_v2/conv1/weights:0 is illegal; using resnet_base/resnet_v2_26/block2/unit_2/bottleneck_v2/conv1/weights_0 instead.\n"
     ]
    },
    {
     "name": "stderr",
     "output_type": "stream",
     "text": [
      "INFO:tensorflow:Summary name resnet_base/resnet_v2_26/block2/unit_2/bottleneck_v2/conv1/weights:0 is illegal; using resnet_base/resnet_v2_26/block2/unit_2/bottleneck_v2/conv1/weights_0 instead.\n"
     ]
    },
    {
     "name": "stdout",
     "output_type": "stream",
     "text": [
      "INFO:tensorflow:Summary name resnet_base/resnet_v2_26/block2/unit_2/bottleneck_v2/conv1/biases:0 is illegal; using resnet_base/resnet_v2_26/block2/unit_2/bottleneck_v2/conv1/biases_0 instead.\n"
     ]
    },
    {
     "name": "stderr",
     "output_type": "stream",
     "text": [
      "INFO:tensorflow:Summary name resnet_base/resnet_v2_26/block2/unit_2/bottleneck_v2/conv1/biases:0 is illegal; using resnet_base/resnet_v2_26/block2/unit_2/bottleneck_v2/conv1/biases_0 instead.\n"
     ]
    },
    {
     "name": "stdout",
     "output_type": "stream",
     "text": [
      "INFO:tensorflow:Summary name resnet_base/resnet_v2_26/block2/unit_2/bottleneck_v2/conv2/weights:0 is illegal; using resnet_base/resnet_v2_26/block2/unit_2/bottleneck_v2/conv2/weights_0 instead.\n"
     ]
    },
    {
     "name": "stderr",
     "output_type": "stream",
     "text": [
      "INFO:tensorflow:Summary name resnet_base/resnet_v2_26/block2/unit_2/bottleneck_v2/conv2/weights:0 is illegal; using resnet_base/resnet_v2_26/block2/unit_2/bottleneck_v2/conv2/weights_0 instead.\n"
     ]
    },
    {
     "name": "stdout",
     "output_type": "stream",
     "text": [
      "INFO:tensorflow:Summary name resnet_base/resnet_v2_26/block2/unit_2/bottleneck_v2/conv2/biases:0 is illegal; using resnet_base/resnet_v2_26/block2/unit_2/bottleneck_v2/conv2/biases_0 instead.\n"
     ]
    },
    {
     "name": "stderr",
     "output_type": "stream",
     "text": [
      "INFO:tensorflow:Summary name resnet_base/resnet_v2_26/block2/unit_2/bottleneck_v2/conv2/biases:0 is illegal; using resnet_base/resnet_v2_26/block2/unit_2/bottleneck_v2/conv2/biases_0 instead.\n"
     ]
    },
    {
     "name": "stdout",
     "output_type": "stream",
     "text": [
      "INFO:tensorflow:Summary name resnet_base/resnet_v2_26/block2/unit_2/bottleneck_v2/conv3/weights:0 is illegal; using resnet_base/resnet_v2_26/block2/unit_2/bottleneck_v2/conv3/weights_0 instead.\n"
     ]
    },
    {
     "name": "stderr",
     "output_type": "stream",
     "text": [
      "INFO:tensorflow:Summary name resnet_base/resnet_v2_26/block2/unit_2/bottleneck_v2/conv3/weights:0 is illegal; using resnet_base/resnet_v2_26/block2/unit_2/bottleneck_v2/conv3/weights_0 instead.\n"
     ]
    },
    {
     "name": "stdout",
     "output_type": "stream",
     "text": [
      "INFO:tensorflow:Summary name resnet_base/resnet_v2_26/block2/unit_2/bottleneck_v2/conv3/biases:0 is illegal; using resnet_base/resnet_v2_26/block2/unit_2/bottleneck_v2/conv3/biases_0 instead.\n"
     ]
    },
    {
     "name": "stderr",
     "output_type": "stream",
     "text": [
      "INFO:tensorflow:Summary name resnet_base/resnet_v2_26/block2/unit_2/bottleneck_v2/conv3/biases:0 is illegal; using resnet_base/resnet_v2_26/block2/unit_2/bottleneck_v2/conv3/biases_0 instead.\n"
     ]
    },
    {
     "name": "stdout",
     "output_type": "stream",
     "text": [
      "INFO:tensorflow:Summary name resnet_base/resnet_v2_26/block3/unit_1/bottleneck_v2/preact/beta:0 is illegal; using resnet_base/resnet_v2_26/block3/unit_1/bottleneck_v2/preact/beta_0 instead.\n"
     ]
    },
    {
     "name": "stderr",
     "output_type": "stream",
     "text": [
      "INFO:tensorflow:Summary name resnet_base/resnet_v2_26/block3/unit_1/bottleneck_v2/preact/beta:0 is illegal; using resnet_base/resnet_v2_26/block3/unit_1/bottleneck_v2/preact/beta_0 instead.\n"
     ]
    },
    {
     "name": "stdout",
     "output_type": "stream",
     "text": [
      "INFO:tensorflow:Summary name resnet_base/resnet_v2_26/block3/unit_1/bottleneck_v2/shortcut/weights:0 is illegal; using resnet_base/resnet_v2_26/block3/unit_1/bottleneck_v2/shortcut/weights_0 instead.\n"
     ]
    },
    {
     "name": "stderr",
     "output_type": "stream",
     "text": [
      "INFO:tensorflow:Summary name resnet_base/resnet_v2_26/block3/unit_1/bottleneck_v2/shortcut/weights:0 is illegal; using resnet_base/resnet_v2_26/block3/unit_1/bottleneck_v2/shortcut/weights_0 instead.\n"
     ]
    },
    {
     "name": "stdout",
     "output_type": "stream",
     "text": [
      "INFO:tensorflow:Summary name resnet_base/resnet_v2_26/block3/unit_1/bottleneck_v2/shortcut/biases:0 is illegal; using resnet_base/resnet_v2_26/block3/unit_1/bottleneck_v2/shortcut/biases_0 instead.\n"
     ]
    },
    {
     "name": "stderr",
     "output_type": "stream",
     "text": [
      "INFO:tensorflow:Summary name resnet_base/resnet_v2_26/block3/unit_1/bottleneck_v2/shortcut/biases:0 is illegal; using resnet_base/resnet_v2_26/block3/unit_1/bottleneck_v2/shortcut/biases_0 instead.\n"
     ]
    },
    {
     "name": "stdout",
     "output_type": "stream",
     "text": [
      "INFO:tensorflow:Summary name resnet_base/resnet_v2_26/block3/unit_1/bottleneck_v2/conv1/weights:0 is illegal; using resnet_base/resnet_v2_26/block3/unit_1/bottleneck_v2/conv1/weights_0 instead.\n"
     ]
    },
    {
     "name": "stderr",
     "output_type": "stream",
     "text": [
      "INFO:tensorflow:Summary name resnet_base/resnet_v2_26/block3/unit_1/bottleneck_v2/conv1/weights:0 is illegal; using resnet_base/resnet_v2_26/block3/unit_1/bottleneck_v2/conv1/weights_0 instead.\n"
     ]
    },
    {
     "name": "stdout",
     "output_type": "stream",
     "text": [
      "INFO:tensorflow:Summary name resnet_base/resnet_v2_26/block3/unit_1/bottleneck_v2/conv1/biases:0 is illegal; using resnet_base/resnet_v2_26/block3/unit_1/bottleneck_v2/conv1/biases_0 instead.\n"
     ]
    },
    {
     "name": "stderr",
     "output_type": "stream",
     "text": [
      "INFO:tensorflow:Summary name resnet_base/resnet_v2_26/block3/unit_1/bottleneck_v2/conv1/biases:0 is illegal; using resnet_base/resnet_v2_26/block3/unit_1/bottleneck_v2/conv1/biases_0 instead.\n"
     ]
    },
    {
     "name": "stdout",
     "output_type": "stream",
     "text": [
      "INFO:tensorflow:Summary name resnet_base/resnet_v2_26/block3/unit_1/bottleneck_v2/conv2/weights:0 is illegal; using resnet_base/resnet_v2_26/block3/unit_1/bottleneck_v2/conv2/weights_0 instead.\n"
     ]
    },
    {
     "name": "stderr",
     "output_type": "stream",
     "text": [
      "INFO:tensorflow:Summary name resnet_base/resnet_v2_26/block3/unit_1/bottleneck_v2/conv2/weights:0 is illegal; using resnet_base/resnet_v2_26/block3/unit_1/bottleneck_v2/conv2/weights_0 instead.\n"
     ]
    },
    {
     "name": "stdout",
     "output_type": "stream",
     "text": [
      "INFO:tensorflow:Summary name resnet_base/resnet_v2_26/block3/unit_1/bottleneck_v2/conv2/biases:0 is illegal; using resnet_base/resnet_v2_26/block3/unit_1/bottleneck_v2/conv2/biases_0 instead.\n"
     ]
    },
    {
     "name": "stderr",
     "output_type": "stream",
     "text": [
      "INFO:tensorflow:Summary name resnet_base/resnet_v2_26/block3/unit_1/bottleneck_v2/conv2/biases:0 is illegal; using resnet_base/resnet_v2_26/block3/unit_1/bottleneck_v2/conv2/biases_0 instead.\n"
     ]
    },
    {
     "name": "stdout",
     "output_type": "stream",
     "text": [
      "INFO:tensorflow:Summary name resnet_base/resnet_v2_26/block3/unit_1/bottleneck_v2/conv3/weights:0 is illegal; using resnet_base/resnet_v2_26/block3/unit_1/bottleneck_v2/conv3/weights_0 instead.\n"
     ]
    },
    {
     "name": "stderr",
     "output_type": "stream",
     "text": [
      "INFO:tensorflow:Summary name resnet_base/resnet_v2_26/block3/unit_1/bottleneck_v2/conv3/weights:0 is illegal; using resnet_base/resnet_v2_26/block3/unit_1/bottleneck_v2/conv3/weights_0 instead.\n"
     ]
    },
    {
     "name": "stdout",
     "output_type": "stream",
     "text": [
      "INFO:tensorflow:Summary name resnet_base/resnet_v2_26/block3/unit_1/bottleneck_v2/conv3/biases:0 is illegal; using resnet_base/resnet_v2_26/block3/unit_1/bottleneck_v2/conv3/biases_0 instead.\n"
     ]
    },
    {
     "name": "stderr",
     "output_type": "stream",
     "text": [
      "INFO:tensorflow:Summary name resnet_base/resnet_v2_26/block3/unit_1/bottleneck_v2/conv3/biases:0 is illegal; using resnet_base/resnet_v2_26/block3/unit_1/bottleneck_v2/conv3/biases_0 instead.\n"
     ]
    },
    {
     "name": "stdout",
     "output_type": "stream",
     "text": [
      "INFO:tensorflow:Summary name resnet_base/resnet_v2_26/block3/unit_2/bottleneck_v2/preact/beta:0 is illegal; using resnet_base/resnet_v2_26/block3/unit_2/bottleneck_v2/preact/beta_0 instead.\n"
     ]
    },
    {
     "name": "stderr",
     "output_type": "stream",
     "text": [
      "INFO:tensorflow:Summary name resnet_base/resnet_v2_26/block3/unit_2/bottleneck_v2/preact/beta:0 is illegal; using resnet_base/resnet_v2_26/block3/unit_2/bottleneck_v2/preact/beta_0 instead.\n"
     ]
    },
    {
     "name": "stdout",
     "output_type": "stream",
     "text": [
      "INFO:tensorflow:Summary name resnet_base/resnet_v2_26/block3/unit_2/bottleneck_v2/conv1/weights:0 is illegal; using resnet_base/resnet_v2_26/block3/unit_2/bottleneck_v2/conv1/weights_0 instead.\n"
     ]
    },
    {
     "name": "stderr",
     "output_type": "stream",
     "text": [
      "INFO:tensorflow:Summary name resnet_base/resnet_v2_26/block3/unit_2/bottleneck_v2/conv1/weights:0 is illegal; using resnet_base/resnet_v2_26/block3/unit_2/bottleneck_v2/conv1/weights_0 instead.\n"
     ]
    },
    {
     "name": "stdout",
     "output_type": "stream",
     "text": [
      "INFO:tensorflow:Summary name resnet_base/resnet_v2_26/block3/unit_2/bottleneck_v2/conv1/biases:0 is illegal; using resnet_base/resnet_v2_26/block3/unit_2/bottleneck_v2/conv1/biases_0 instead.\n"
     ]
    },
    {
     "name": "stderr",
     "output_type": "stream",
     "text": [
      "INFO:tensorflow:Summary name resnet_base/resnet_v2_26/block3/unit_2/bottleneck_v2/conv1/biases:0 is illegal; using resnet_base/resnet_v2_26/block3/unit_2/bottleneck_v2/conv1/biases_0 instead.\n"
     ]
    },
    {
     "name": "stdout",
     "output_type": "stream",
     "text": [
      "INFO:tensorflow:Summary name resnet_base/resnet_v2_26/block3/unit_2/bottleneck_v2/conv2/weights:0 is illegal; using resnet_base/resnet_v2_26/block3/unit_2/bottleneck_v2/conv2/weights_0 instead.\n"
     ]
    },
    {
     "name": "stderr",
     "output_type": "stream",
     "text": [
      "INFO:tensorflow:Summary name resnet_base/resnet_v2_26/block3/unit_2/bottleneck_v2/conv2/weights:0 is illegal; using resnet_base/resnet_v2_26/block3/unit_2/bottleneck_v2/conv2/weights_0 instead.\n"
     ]
    },
    {
     "name": "stdout",
     "output_type": "stream",
     "text": [
      "INFO:tensorflow:Summary name resnet_base/resnet_v2_26/block3/unit_2/bottleneck_v2/conv2/biases:0 is illegal; using resnet_base/resnet_v2_26/block3/unit_2/bottleneck_v2/conv2/biases_0 instead.\n"
     ]
    },
    {
     "name": "stderr",
     "output_type": "stream",
     "text": [
      "INFO:tensorflow:Summary name resnet_base/resnet_v2_26/block3/unit_2/bottleneck_v2/conv2/biases:0 is illegal; using resnet_base/resnet_v2_26/block3/unit_2/bottleneck_v2/conv2/biases_0 instead.\n"
     ]
    },
    {
     "name": "stdout",
     "output_type": "stream",
     "text": [
      "INFO:tensorflow:Summary name resnet_base/resnet_v2_26/block3/unit_2/bottleneck_v2/conv3/weights:0 is illegal; using resnet_base/resnet_v2_26/block3/unit_2/bottleneck_v2/conv3/weights_0 instead.\n"
     ]
    },
    {
     "name": "stderr",
     "output_type": "stream",
     "text": [
      "INFO:tensorflow:Summary name resnet_base/resnet_v2_26/block3/unit_2/bottleneck_v2/conv3/weights:0 is illegal; using resnet_base/resnet_v2_26/block3/unit_2/bottleneck_v2/conv3/weights_0 instead.\n"
     ]
    },
    {
     "name": "stdout",
     "output_type": "stream",
     "text": [
      "INFO:tensorflow:Summary name resnet_base/resnet_v2_26/block3/unit_2/bottleneck_v2/conv3/biases:0 is illegal; using resnet_base/resnet_v2_26/block3/unit_2/bottleneck_v2/conv3/biases_0 instead.\n"
     ]
    },
    {
     "name": "stderr",
     "output_type": "stream",
     "text": [
      "INFO:tensorflow:Summary name resnet_base/resnet_v2_26/block3/unit_2/bottleneck_v2/conv3/biases:0 is illegal; using resnet_base/resnet_v2_26/block3/unit_2/bottleneck_v2/conv3/biases_0 instead.\n"
     ]
    },
    {
     "name": "stdout",
     "output_type": "stream",
     "text": [
      "INFO:tensorflow:Summary name resnet_base/resnet_v2_26/block4/unit_1/bottleneck_v2/preact/beta:0 is illegal; using resnet_base/resnet_v2_26/block4/unit_1/bottleneck_v2/preact/beta_0 instead.\n"
     ]
    },
    {
     "name": "stderr",
     "output_type": "stream",
     "text": [
      "INFO:tensorflow:Summary name resnet_base/resnet_v2_26/block4/unit_1/bottleneck_v2/preact/beta:0 is illegal; using resnet_base/resnet_v2_26/block4/unit_1/bottleneck_v2/preact/beta_0 instead.\n"
     ]
    },
    {
     "name": "stdout",
     "output_type": "stream",
     "text": [
      "INFO:tensorflow:Summary name resnet_base/resnet_v2_26/block4/unit_1/bottleneck_v2/shortcut/weights:0 is illegal; using resnet_base/resnet_v2_26/block4/unit_1/bottleneck_v2/shortcut/weights_0 instead.\n"
     ]
    },
    {
     "name": "stderr",
     "output_type": "stream",
     "text": [
      "INFO:tensorflow:Summary name resnet_base/resnet_v2_26/block4/unit_1/bottleneck_v2/shortcut/weights:0 is illegal; using resnet_base/resnet_v2_26/block4/unit_1/bottleneck_v2/shortcut/weights_0 instead.\n"
     ]
    },
    {
     "name": "stdout",
     "output_type": "stream",
     "text": [
      "INFO:tensorflow:Summary name resnet_base/resnet_v2_26/block4/unit_1/bottleneck_v2/shortcut/biases:0 is illegal; using resnet_base/resnet_v2_26/block4/unit_1/bottleneck_v2/shortcut/biases_0 instead.\n"
     ]
    },
    {
     "name": "stderr",
     "output_type": "stream",
     "text": [
      "INFO:tensorflow:Summary name resnet_base/resnet_v2_26/block4/unit_1/bottleneck_v2/shortcut/biases:0 is illegal; using resnet_base/resnet_v2_26/block4/unit_1/bottleneck_v2/shortcut/biases_0 instead.\n"
     ]
    },
    {
     "name": "stdout",
     "output_type": "stream",
     "text": [
      "INFO:tensorflow:Summary name resnet_base/resnet_v2_26/block4/unit_1/bottleneck_v2/conv1/weights:0 is illegal; using resnet_base/resnet_v2_26/block4/unit_1/bottleneck_v2/conv1/weights_0 instead.\n"
     ]
    },
    {
     "name": "stderr",
     "output_type": "stream",
     "text": [
      "INFO:tensorflow:Summary name resnet_base/resnet_v2_26/block4/unit_1/bottleneck_v2/conv1/weights:0 is illegal; using resnet_base/resnet_v2_26/block4/unit_1/bottleneck_v2/conv1/weights_0 instead.\n"
     ]
    },
    {
     "name": "stdout",
     "output_type": "stream",
     "text": [
      "INFO:tensorflow:Summary name resnet_base/resnet_v2_26/block4/unit_1/bottleneck_v2/conv1/biases:0 is illegal; using resnet_base/resnet_v2_26/block4/unit_1/bottleneck_v2/conv1/biases_0 instead.\n"
     ]
    },
    {
     "name": "stderr",
     "output_type": "stream",
     "text": [
      "INFO:tensorflow:Summary name resnet_base/resnet_v2_26/block4/unit_1/bottleneck_v2/conv1/biases:0 is illegal; using resnet_base/resnet_v2_26/block4/unit_1/bottleneck_v2/conv1/biases_0 instead.\n"
     ]
    },
    {
     "name": "stdout",
     "output_type": "stream",
     "text": [
      "INFO:tensorflow:Summary name resnet_base/resnet_v2_26/block4/unit_1/bottleneck_v2/conv2/weights:0 is illegal; using resnet_base/resnet_v2_26/block4/unit_1/bottleneck_v2/conv2/weights_0 instead.\n"
     ]
    },
    {
     "name": "stderr",
     "output_type": "stream",
     "text": [
      "INFO:tensorflow:Summary name resnet_base/resnet_v2_26/block4/unit_1/bottleneck_v2/conv2/weights:0 is illegal; using resnet_base/resnet_v2_26/block4/unit_1/bottleneck_v2/conv2/weights_0 instead.\n"
     ]
    },
    {
     "name": "stdout",
     "output_type": "stream",
     "text": [
      "INFO:tensorflow:Summary name resnet_base/resnet_v2_26/block4/unit_1/bottleneck_v2/conv2/biases:0 is illegal; using resnet_base/resnet_v2_26/block4/unit_1/bottleneck_v2/conv2/biases_0 instead.\n"
     ]
    },
    {
     "name": "stderr",
     "output_type": "stream",
     "text": [
      "INFO:tensorflow:Summary name resnet_base/resnet_v2_26/block4/unit_1/bottleneck_v2/conv2/biases:0 is illegal; using resnet_base/resnet_v2_26/block4/unit_1/bottleneck_v2/conv2/biases_0 instead.\n"
     ]
    },
    {
     "name": "stdout",
     "output_type": "stream",
     "text": [
      "INFO:tensorflow:Summary name resnet_base/resnet_v2_26/block4/unit_1/bottleneck_v2/conv3/weights:0 is illegal; using resnet_base/resnet_v2_26/block4/unit_1/bottleneck_v2/conv3/weights_0 instead.\n"
     ]
    },
    {
     "name": "stderr",
     "output_type": "stream",
     "text": [
      "INFO:tensorflow:Summary name resnet_base/resnet_v2_26/block4/unit_1/bottleneck_v2/conv3/weights:0 is illegal; using resnet_base/resnet_v2_26/block4/unit_1/bottleneck_v2/conv3/weights_0 instead.\n"
     ]
    },
    {
     "name": "stdout",
     "output_type": "stream",
     "text": [
      "INFO:tensorflow:Summary name resnet_base/resnet_v2_26/block4/unit_1/bottleneck_v2/conv3/biases:0 is illegal; using resnet_base/resnet_v2_26/block4/unit_1/bottleneck_v2/conv3/biases_0 instead.\n"
     ]
    },
    {
     "name": "stderr",
     "output_type": "stream",
     "text": [
      "INFO:tensorflow:Summary name resnet_base/resnet_v2_26/block4/unit_1/bottleneck_v2/conv3/biases:0 is illegal; using resnet_base/resnet_v2_26/block4/unit_1/bottleneck_v2/conv3/biases_0 instead.\n"
     ]
    },
    {
     "name": "stdout",
     "output_type": "stream",
     "text": [
      "INFO:tensorflow:Summary name resnet_base/resnet_v2_26/block4/unit_2/bottleneck_v2/preact/beta:0 is illegal; using resnet_base/resnet_v2_26/block4/unit_2/bottleneck_v2/preact/beta_0 instead.\n"
     ]
    },
    {
     "name": "stderr",
     "output_type": "stream",
     "text": [
      "INFO:tensorflow:Summary name resnet_base/resnet_v2_26/block4/unit_2/bottleneck_v2/preact/beta:0 is illegal; using resnet_base/resnet_v2_26/block4/unit_2/bottleneck_v2/preact/beta_0 instead.\n"
     ]
    },
    {
     "name": "stdout",
     "output_type": "stream",
     "text": [
      "INFO:tensorflow:Summary name resnet_base/resnet_v2_26/block4/unit_2/bottleneck_v2/conv1/weights:0 is illegal; using resnet_base/resnet_v2_26/block4/unit_2/bottleneck_v2/conv1/weights_0 instead.\n"
     ]
    },
    {
     "name": "stderr",
     "output_type": "stream",
     "text": [
      "INFO:tensorflow:Summary name resnet_base/resnet_v2_26/block4/unit_2/bottleneck_v2/conv1/weights:0 is illegal; using resnet_base/resnet_v2_26/block4/unit_2/bottleneck_v2/conv1/weights_0 instead.\n"
     ]
    },
    {
     "name": "stdout",
     "output_type": "stream",
     "text": [
      "INFO:tensorflow:Summary name resnet_base/resnet_v2_26/block4/unit_2/bottleneck_v2/conv1/biases:0 is illegal; using resnet_base/resnet_v2_26/block4/unit_2/bottleneck_v2/conv1/biases_0 instead.\n"
     ]
    },
    {
     "name": "stderr",
     "output_type": "stream",
     "text": [
      "INFO:tensorflow:Summary name resnet_base/resnet_v2_26/block4/unit_2/bottleneck_v2/conv1/biases:0 is illegal; using resnet_base/resnet_v2_26/block4/unit_2/bottleneck_v2/conv1/biases_0 instead.\n"
     ]
    },
    {
     "name": "stdout",
     "output_type": "stream",
     "text": [
      "INFO:tensorflow:Summary name resnet_base/resnet_v2_26/block4/unit_2/bottleneck_v2/conv2/weights:0 is illegal; using resnet_base/resnet_v2_26/block4/unit_2/bottleneck_v2/conv2/weights_0 instead.\n"
     ]
    },
    {
     "name": "stderr",
     "output_type": "stream",
     "text": [
      "INFO:tensorflow:Summary name resnet_base/resnet_v2_26/block4/unit_2/bottleneck_v2/conv2/weights:0 is illegal; using resnet_base/resnet_v2_26/block4/unit_2/bottleneck_v2/conv2/weights_0 instead.\n"
     ]
    },
    {
     "name": "stdout",
     "output_type": "stream",
     "text": [
      "INFO:tensorflow:Summary name resnet_base/resnet_v2_26/block4/unit_2/bottleneck_v2/conv2/biases:0 is illegal; using resnet_base/resnet_v2_26/block4/unit_2/bottleneck_v2/conv2/biases_0 instead.\n"
     ]
    },
    {
     "name": "stderr",
     "output_type": "stream",
     "text": [
      "INFO:tensorflow:Summary name resnet_base/resnet_v2_26/block4/unit_2/bottleneck_v2/conv2/biases:0 is illegal; using resnet_base/resnet_v2_26/block4/unit_2/bottleneck_v2/conv2/biases_0 instead.\n"
     ]
    },
    {
     "name": "stdout",
     "output_type": "stream",
     "text": [
      "INFO:tensorflow:Summary name resnet_base/resnet_v2_26/block4/unit_2/bottleneck_v2/conv3/weights:0 is illegal; using resnet_base/resnet_v2_26/block4/unit_2/bottleneck_v2/conv3/weights_0 instead.\n"
     ]
    },
    {
     "name": "stderr",
     "output_type": "stream",
     "text": [
      "INFO:tensorflow:Summary name resnet_base/resnet_v2_26/block4/unit_2/bottleneck_v2/conv3/weights:0 is illegal; using resnet_base/resnet_v2_26/block4/unit_2/bottleneck_v2/conv3/weights_0 instead.\n"
     ]
    },
    {
     "name": "stdout",
     "output_type": "stream",
     "text": [
      "INFO:tensorflow:Summary name resnet_base/resnet_v2_26/block4/unit_2/bottleneck_v2/conv3/biases:0 is illegal; using resnet_base/resnet_v2_26/block4/unit_2/bottleneck_v2/conv3/biases_0 instead.\n"
     ]
    },
    {
     "name": "stderr",
     "output_type": "stream",
     "text": [
      "INFO:tensorflow:Summary name resnet_base/resnet_v2_26/block4/unit_2/bottleneck_v2/conv3/biases:0 is illegal; using resnet_base/resnet_v2_26/block4/unit_2/bottleneck_v2/conv3/biases_0 instead.\n"
     ]
    },
    {
     "name": "stdout",
     "output_type": "stream",
     "text": [
      "INFO:tensorflow:Summary name resnet_base/resnet_v2_26/postnorm/beta:0 is illegal; using resnet_base/resnet_v2_26/postnorm/beta_0 instead.\n"
     ]
    },
    {
     "name": "stderr",
     "output_type": "stream",
     "text": [
      "INFO:tensorflow:Summary name resnet_base/resnet_v2_26/postnorm/beta:0 is illegal; using resnet_base/resnet_v2_26/postnorm/beta_0 instead.\n"
     ]
    },
    {
     "name": "stdout",
     "output_type": "stream",
     "text": [
      "INFO:tensorflow:Summary name class_head/Conv/weights:0 is illegal; using class_head/Conv/weights_0 instead.\n"
     ]
    },
    {
     "name": "stderr",
     "output_type": "stream",
     "text": [
      "INFO:tensorflow:Summary name class_head/Conv/weights:0 is illegal; using class_head/Conv/weights_0 instead.\n"
     ]
    },
    {
     "name": "stdout",
     "output_type": "stream",
     "text": [
      "INFO:tensorflow:Summary name class_head/Conv/biases:0 is illegal; using class_head/Conv/biases_0 instead.\n"
     ]
    },
    {
     "name": "stderr",
     "output_type": "stream",
     "text": [
      "INFO:tensorflow:Summary name class_head/Conv/biases:0 is illegal; using class_head/Conv/biases_0 instead.\n"
     ]
    }
   ],
   "source": [
    "graph = tf.Graph()\n",
    "with graph.as_default():\n",
    "#     dataset = tf.data.Dataset().from_generator(dg.get_image_and_label, output_types= (tf.float32, (tf.int64,tf.int32,tf.int64)),\n",
    "#                                               output_shapes = (tf.TensorShape([None,32,None,1]), \n",
    "#                                                                           (tf.TensorShape([None,None]),\n",
    "#                                                                            tf.TensorShape([None]),\n",
    "#                                                                            tf.TensorShape([None]))))\n",
    "    dataset = tf.data.Dataset().from_generator(local_data_generator, output_types= (tf.float32, tf.int32),\n",
    "                                              output_shapes = (tf.TensorShape([None, IMAGE_HEIGHT, None,1]), \n",
    "                                                                          (tf.TensorShape([None, None]))))\n",
    "    dataset = dataset.prefetch(1)\n",
    "    data_iter = dataset.make_initializable_iterator()\n",
    "    features, labels = data_iter.get_next()\n",
    "    labels = tf.contrib.layers.dense_to_sparse(labels)\n",
    "    tf.train.create_global_step()\n",
    "#     model = OCRModel(image_height=1024, num_classes=num_classes+1, input_image_batch=features, \n",
    "#                      sequence_labels=tf.SparseTensor(*labels), is_training=True)\n",
    "    model = OCRModel(charset = all_chars, input_image_batch=features, \n",
    "                     sequence_labels=labels, is_training=True)\n",
    "    init = tf.global_variables_initializer()\n",
    "    table_init = tf.tables_initializer()\n",
    "    saver = tf.train.Saver()\n",
    "    variables = tf.get_collection(tf.GraphKeys.TRAINABLE_VARIABLES)\n",
    "    hists = [tf.summary.histogram(name=v.name, values=v.value()) for v in variables]\n",
    "    merged_summary_hists = tf.summary.merge(hists)"
   ]
  },
  {
   "cell_type": "code",
   "execution_count": null,
   "metadata": {},
   "outputs": [
    {
     "name": "stdout",
     "output_type": "stream",
     "text": [
      "INFO:tensorflow:Restoring parameters from log/model_lev_dist_0.09778536856174469.ckpt\n"
     ]
    },
    {
     "name": "stderr",
     "output_type": "stream",
     "text": [
      "INFO:tensorflow:Restoring parameters from log/model_lev_dist_0.09778536856174469.ckpt\n"
     ]
    }
   ],
   "source": [
    "# from tensorflow.python.client import timeline\n",
    "\n",
    "LOG_DIR = 'log/'\n",
    "with tf.Session(graph=graph) as sess:\n",
    "#     run_options = tf.RunOptions(trace_level=tf.RunOptions.FULL_TRACE)\n",
    "#     run_metadata = tf.RunMetadata()\n",
    "    \n",
    "    test_writer = tf.summary.FileWriter(LOG_DIR + 'test', sess.graph)\n",
    "    pred_lev_dist = np.Inf\n",
    "    sess.run([init, data_iter.initializer, table_init])\n",
    "    try:\n",
    "        saver.restore(sess, LOG_DIR + \"model_lev_dist_0.09778536856174469.ckpt\")\n",
    "    except:\n",
    "        print('cant restore')\n",
    "    for num in range(int(1e10)):\n",
    "#after profiling I understud that most of time I did not spend on data load, but on BeamSearch calculation for prediction\n",
    "#from this time i desided to calc statistic only on each 100th iteration\n",
    "#         _, ms = sess.run([model.train_op, model.merged_summary], options=run_options, run_metadata=run_metadata )\n",
    "#         _ = sess.run([model.train_op], options=run_options, run_metadata=run_metadata )\n",
    "\n",
    "\n",
    "        _ = sess.run([model.train_op])\n",
    "\n",
    "#         tl = timeline.Timeline(run_metadata.step_stats)\n",
    "#         ctf = tl.generate_chrome_trace_format()\n",
    "#         with open('timeline.json', 'w') as f:\n",
    "#             f.write(ctf)\n",
    "\n",
    "        if num%100 == 0:\n",
    "            _, ms, lev_dist = sess.run([model.train_op, model.merged_summary_metrics, model.lev_dist])\n",
    "            test_writer.add_summary(ms, num)\n",
    "            if lev_dist < pred_lev_dist:\n",
    "                pred_lev_dist = lev_dist\n",
    "                saver.save(sess, LOG_DIR + \"model_lev_dist_{}.ckpt\".format(lev_dist))\n",
    "        if num%1000 == 0:\n",
    "            ms, ms_hist = sess.run([model.merged_summary_image, merged_summary_hists])\n",
    "            test_writer.add_summary(ms, num)\n",
    "            test_writer.add_summary(ms_hist, num)"
   ]
  }
 ],
 "metadata": {
  "kernelspec": {
   "display_name": "Python 3",
   "language": "python",
   "name": "python3"
  },
  "language_info": {
   "codemirror_mode": {
    "name": "ipython",
    "version": 3
   },
   "file_extension": ".py",
   "mimetype": "text/x-python",
   "name": "python",
   "nbconvert_exporter": "python",
   "pygments_lexer": "ipython3",
   "version": "3.5.2"
  }
 },
 "nbformat": 4,
 "nbformat_minor": 2
}
